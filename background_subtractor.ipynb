{
  "nbformat": 4,
  "nbformat_minor": 0,
  "metadata": {
    "colab": {
      "name": "background-subtractor",
      "provenance": [],
      "collapsed_sections": [],
      "mount_file_id": "19Rymrxn0_OPbtAadkMWAbP5iPu7d-jMq",
      "authorship_tag": "ABX9TyO94iGWLgI9agXBelhFcH5/",
      "include_colab_link": true
    },
    "kernelspec": {
      "name": "python3",
      "display_name": "Python 3"
    }
  },
  "cells": [
    {
      "cell_type": "markdown",
      "metadata": {
        "id": "view-in-github",
        "colab_type": "text"
      },
      "source": [
        "<a href=\"https://colab.research.google.com/github/edwardly1002/ComputerVision/blob/master/background_subtractor.ipynb\" target=\"_parent\"><img src=\"https://colab.research.google.com/assets/colab-badge.svg\" alt=\"Open In Colab\"/></a>"
      ]
    },
    {
      "cell_type": "code",
      "metadata": {
        "id": "bWcDMbsvMkSR"
      },
      "source": [
        "%cd /content/\n",
        "!pip install hungarian-algorithm\n",
        "!pip install scipy==1.5.4"
      ],
      "execution_count": null,
      "outputs": []
    },
    {
      "cell_type": "code",
      "metadata": {
        "id": "oSffGsQZQAn6"
      },
      "source": [
        "from __future__ import print_function\n",
        "import cv2 as cv2\n",
        "from google.colab.patches import cv2_imshow\n",
        "import numpy as np\n",
        "from hungarian_algorithm import algorithm as hungarian\n",
        "from scipy.optimize import linear_sum_assignment as hungary"
      ],
      "execution_count": 2,
      "outputs": []
    },
    {
      "cell_type": "code",
      "metadata": {
        "id": "FKY80Hb-mjpt"
      },
      "source": [
        "def cosin_inv(v1, v2):\n",
        "    dot = v1[0]*v2[0] + v1[1]*v2[1]\n",
        "    dist1 = np.sqrt(v1[0]*v1[0] + v1[1]*v1[1])\n",
        "    dist2 = np.sqrt(v2[0]*v2[0] + v2[1]*v2[1])\n",
        "    cosin = dot/(dist1*dist2)\n",
        "    if cosin == 0:\n",
        "        return 999999\n",
        "    elif dist1==0 or dist2==0:\n",
        "        return 1\n",
        "    else:\n",
        "        cosin = cosin*cosin*cosin*cosin\n",
        "        return 1/cosin"
      ],
      "execution_count": 3,
      "outputs": []
    },
    {
      "cell_type": "code",
      "metadata": {
        "id": "vk_Lf2AY4Wun"
      },
      "source": [
        "def get_objects(frame, outputs, counting):\n",
        "    ###OBJ SUBTRACTOR###\n",
        "    image = backSub.apply(frame)\n",
        "\n",
        "    threshold = 10\n",
        "    image[image != 255] = 0\n",
        "    # image[image < threshold] = 255\n",
        "\n",
        "    # image = cv2.dilate(image, None, iterations=2)\n",
        "    image = cv2.erode(image, None, iterations=2)\n",
        "    image = cv2.dilate(image, None, iterations=2)\n",
        "    # image = cv2.dilate(image, None)\n",
        "    \n",
        "\n",
        "    contours, _ = cv2.findContours(image, cv2.RETR_TREE, cv2.CHAIN_APPROX_SIMPLE)\n",
        "\n",
        "    image = image.reshape((height, width, 1))\n",
        "    image = np.concatenate((image, image, image), axis = 2)\n",
        "\n",
        "    objects = []\n",
        "\n",
        "    coordinates = []\n",
        "    for contour in contours:\n",
        "        (x, y, w, h) = cv2.boundingRect(contour)\n",
        "\n",
        "        ###WRITE TO COLORED IMAGE###\n",
        "        if cv2.contourArea(contour) < 100:\n",
        "            continue\n",
        "        # cv2.rectangle(frame1, (x, y), (x+w, y+h), (0, 255, 0), 2)\n",
        "        # cv2.putText(frame1, \"Status: {}\".format('Movement'), (10, 20), cv2.FONT_HERSHEY_SIMPLEX,\n",
        "        #             1, (0, 0, 255), 3)\n",
        "        \n",
        "        ###WRITE TO GREY IMAGE###\n",
        "        cv2.rectangle(image, (x, y), (x+w, y+h), (0, 255, 0), 2)\n",
        "        cv2.putText(image, \"Status: {}\".format('Movement'), (10, 20), cv2.FONT_HERSHEY_SIMPLEX,\n",
        "                    1, (0, 0, 255), 3)\n",
        "\n",
        "        ###add points to outputs for personal###\n",
        "        # outputs[counting].append([x, y, x+w/2, y+h/2, int(np.sqrt(w*h))])\n",
        "\n",
        "        ###ADD TO OBJECTS LIST###\n",
        "        objects.append([[x+w/2, y+h/2], -1])\n",
        "        coordinates.append([x, y])\n",
        "\n",
        "    return image, outputs, objects, coordinates"
      ],
      "execution_count": 82,
      "outputs": []
    },
    {
      "cell_type": "code",
      "metadata": {
        "id": "yxCG-s1W7rFn"
      },
      "source": [
        "|def prepare_configs(input_file):\n",
        "    cap = cv2.VideoCapture(cv2.samples.findFileOrKeep(input_file))\n",
        "\n",
        "    width = int( cap.get(cv2.CAP_PROP_FRAME_WIDTH))\n",
        "    height =int( cap.get( cv2.CAP_PROP_FRAME_HEIGHT))\n",
        "\n",
        "    # fps = int(cap.get(cv2.CAP_PROP_FPS))\n",
        "    # fps = 10\n",
        "    fps = 5\n",
        "\n",
        "    codec = cv2.VideoWriter_fourcc(*\"XVID\")\n",
        "    out = cv2.VideoWriter(output_file, codec, fps, (width, height))\n",
        "\n",
        "    return cap, out, width, height"
      ],
      "execution_count": 22,
      "outputs": []
    },
    {
      "cell_type": "code",
      "metadata": {
        "id": "4ITV1IaA_PWd"
      },
      "source": [
        "def numbering_object_1(objs, newObjs, mapping, counting):\n",
        "    if newObjs == None:\n",
        "        return newObjs, counting\n",
        "    elif objs == None or len(objs) == 0:\n",
        "        for i in range(len(newObjs)):\n",
        "            counting = counting+1\n",
        "            newObjs[i][1] = counting\n",
        "    elif mapping == None:\n",
        "        return newObjs, counting\n",
        "    else:\n",
        "        for i in mapping:\n",
        "            newObjs[int(i[0][1])-1][1] = objs[(i[0][0])-1][1]\n",
        "        for i in range(len(newObjs)):\n",
        "            if newObjs[i][1] == 0:\n",
        "                counting = counting+1\n",
        "                newObjs[i][1] = counting\n",
        "\n",
        "    return newObjs, counting\n",
        "\n",
        "def numbering_object(objs, newObjs, mapping, counting):\n",
        "    if newObjs == None:\n",
        "        return newObjs, counting\n",
        "    elif objs == None or len(objs) == 0:\n",
        "        for i in range(len(newObjs)):\n",
        "            counting = counting+1\n",
        "            newObjs[i][1] = counting\n",
        "    elif mapping == None:\n",
        "        for i in range(len(newObjs)):\n",
        "            if newObjs[i][1] == -1:\n",
        "                counting = counting+1\n",
        "                newObjs[i][1] = counting\n",
        "    else:\n",
        "        for i in mapping:\n",
        "            newObjs[i[1]][1] = objs[i[0]][1]\n",
        "        for i in range(len(newObjs)):\n",
        "            if newObjs[i][1] == -1:\n",
        "                counting = counting+1\n",
        "                newObjs[i][1] = counting\n",
        "\n",
        "    return newObjs, counting"
      ],
      "execution_count": 6,
      "outputs": []
    },
    {
      "cell_type": "code",
      "metadata": {
        "id": "TK9qivyr9mUe"
      },
      "source": [
        "###PREPARE INPUT FOR HUNGARIAN ALGO\n",
        "def create_matrix_1(objs, newObjs): \n",
        "    matrix = dict()\n",
        "    for i in range(len(objs)):\n",
        "        matrix[i+1] = dict()\n",
        "        for j in range(len(newObjs)):\n",
        "            dist = [objs[i][0][0]-newObjs[j][0][0], objs[i][0][1]-newObjs[j][0][1]]\n",
        "            dist = np.linalg.norm(dist)\n",
        "            if dist == 0:\n",
        "                matrix[i+1][str(j+1)] = 999999999\n",
        "            else:\n",
        "                dist = 1/dist\n",
        "                print(\"DISTANCE = \", dist)\n",
        "                dist = dist*100000\n",
        "                # dist = dist*dist\n",
        "                matrix[i+1][str(j+1)] =  int(dist)\n",
        "        if len(matrix[i+1]) == 0:\n",
        "            matrix.pop(i+1)\n",
        "    return matrix\n",
        "\n",
        "def create_matrix(objs, newObjs, oldObjs, oldMap): \n",
        "    if newObjs == None:\n",
        "        return []\n",
        "    matrix = []\n",
        "    ###EUCLIDIAN DISTANCE###\n",
        "    for i in range(len(objs)):\n",
        "        matrix.append([])\n",
        "        for j in range(len(newObjs)):\n",
        "            dist = [objs[i][0][0]-newObjs[j][0][0], objs[i][0][1]-newObjs[j][0][1]]\n",
        "            dist = np.linalg.norm(dist)\n",
        "            matrix[i].append(dist)\n",
        "\n",
        "    ###ADD DIRECTION FACTOR###\n",
        "    if (oldObjs == None) or (oldMap ==None):\n",
        "        return matrix\n",
        "    for i in oldMap:\n",
        "        pOld = oldObjs[i[0]][0]\n",
        "        p = objs[i[1]][0]\n",
        "        v1 = [p[0]-pOld[0], p[1]-pOld[1]]\n",
        "        for j in range(len(newObjs)):\n",
        "            pNew = newObjs[j][0]\n",
        "            v2 = [pNew[0]-p[0], pNew[1]-p[1]]\n",
        "            cosin = cosin_inv(v1,v2)\n",
        "            matrix[i[1]][j] = matrix[i[1]][j]*cosin\n",
        "            \n",
        "    return matrix"
      ],
      "execution_count": 7,
      "outputs": []
    },
    {
      "cell_type": "code",
      "metadata": {
        "id": "yQXOYtB5Epkb"
      },
      "source": [
        "def hungarian_algo_1(matrix):\n",
        "    if len(matrix) < 2:\n",
        "        return None\n",
        "    match = hungarian.find_matching(matrix, matching_type=\"max\", return_type=\"list\")\n",
        "    return match\n",
        "\n",
        "def hungarian_algo(matrix):\n",
        "    if len(matrix) < 1:\n",
        "        return None\n",
        "    row, col = hungary(matrix)\n",
        "    match = []\n",
        "    for i in range(len(row)):\n",
        "        match.append((row[i], col[i]))\n",
        "    return match"
      ],
      "execution_count": 8,
      "outputs": []
    },
    {
      "cell_type": "code",
      "metadata": {
        "id": "KJcEAkzeNf3u"
      },
      "source": [
        "# !cp \"/content/drive/MyDrive/Colab Notebooks/BackgroundSubtract/data/test2.mp4\" \"/content\"\n",
        "###SETTING INPS###\n",
        "input_file = \"/content/test1.mp4\"\n",
        "algo = \"KNN\"\n",
        "output_file = \"result1.avi\"\n",
        "output_format = \"XVID\"\n",
        "if algo == 'MOG2':\n",
        "    backSub = cv2.createBackgroundSubtractorMOG2()\n",
        "elif algo == \"KNN\":\n",
        "    backSub = cv2.createBackgroundSubtractorKNN()\n",
        "else:\n",
        "    backSub = cv2.bgsegm.createBackgroundSubtractorMOG()"
      ],
      "execution_count": 80,
      "outputs": []
    },
    {
      "cell_type": "code",
      "metadata": {
        "id": "7q5WjQPIPwRw",
        "colab": {
          "base_uri": "https://localhost:8080/"
        },
        "outputId": "4a655c5f-9561-4449-ec34-fd63252c4de4"
      },
      "source": [
        "cap, out, width, height = prepare_configs(input_file)\n",
        "\n",
        "counting = 0\n",
        "object_num = -1\n",
        "outputs = [[]]\n",
        "\n",
        "ret, frame1 = cap.read()\n",
        "_, outputs, oldObjs, _ = get_objects(frame1, outputs, counting)\n",
        "oldObjs, object_num = numbering_object(None, oldObjs, None, object_num)\n",
        "\n",
        "ret, frame2 = cap.read()\n",
        "_, outputs, objs, _ = get_objects(frame2, outputs, counting)\n",
        "matrix = create_matrix(oldObjs, objs, None, None)\n",
        "oldMap = hungarian_algo(matrix)\n",
        "objs, object_num = numbering_object(oldObjs, objs, oldMap, object_num)\n",
        "\n",
        "\n",
        "ret, frame3 = cap.read()\n",
        "while cap.isOpened() and ret:\n",
        "\n",
        "    #try obj subtractor\n",
        "    outputs.append([])\n",
        "    dilated, outputs, newObjs, coordinates = get_objects(frame2, outputs, counting)\n",
        "    ###FOR OUTING COLORED IMGAGE###\n",
        "    # image = frame1\n",
        "    # image.reshape((1080, 1920, 3))\n",
        "\n",
        "    ###HUNGARY STEP###\n",
        "    # print(\"OLD OBJ: \", len(objs), \" ============= \" , objs)\n",
        "    # print(\"NEW OBJ: \", newObjs)\n",
        "    matrix = create_matrix(objs, newObjs, oldObjs, oldMap)\n",
        "    # print(\"MATRIX CREATED: \", matrix)\n",
        "    mapping = hungarian_algo(matrix)\n",
        "    # print(\"MAPPING: \", mapping)\n",
        "    newObjs, object_num = numbering_object(objs, newObjs, mapping, object_num)\n",
        "    # print(\"NEW OBJECT AFTER MANIPULATE\", newObjs)\n",
        "\n",
        "    for i in range(len(newObjs)):\n",
        "        cv2.putText(dilated, \"OBJ: {}\".format(newObjs[i][1]), (coordinates[i][0], coordinates[i][1]), cv2.FONT_HERSHEY_SIMPLEX,\n",
        "                    1, (0, 0, 255), 3)\n",
        "\n",
        "    oldObjs = objs\n",
        "    objs = newObjs\n",
        "    oldMap = mapping\n",
        "\n",
        "    if counting > 5:\n",
        "        out.write(dilated)\n",
        "    else:\n",
        "        object_num = 0\n",
        "    frame2 = frame1\n",
        "    ret, frame1 = cap.read()\n",
        "\n",
        "    if (counting%50 == 0):\n",
        "        print(\"Processing . . . \")\n",
        "    counting = counting+1\n",
        "\n",
        "    if cv2.waitKey(40) == 27:\n",
        "        break\n",
        "\n",
        "cv2.destroyAllWindows()\n",
        "cap.release()\n",
        "out.release()"
      ],
      "execution_count": 83,
      "outputs": [
        {
          "output_type": "stream",
          "text": [
            "Processing . . . \n"
          ],
          "name": "stdout"
        }
      ]
    },
    {
      "cell_type": "code",
      "metadata": {
        "id": "bYLHaurXEiiZ"
      },
      "source": [
        "!ffmpeg -i result.avi output.mp4\n",
        "from IPython.display import HTML\n",
        "from base64 import b64encode\n",
        "mp4 = open('output.mp4','rb').read()\n",
        "data_url = \"data:video/mp4;base64,\" + b64encode(mp4).decode()\n",
        "HTML(\"\"\"\n",
        "<video width=400 controls>\n",
        "      <source src=\"%s\" type=\"video/mp4\">\n",
        "</video>\n",
        "\"\"\" % data_url)"
      ],
      "execution_count": null,
      "outputs": []
    },
    {
      "cell_type": "code",
      "metadata": {
        "id": "pP-MlG4cwqsg"
      },
      "source": [
        ""
      ],
      "execution_count": null,
      "outputs": []
    }
  ]
}